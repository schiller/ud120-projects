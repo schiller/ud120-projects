{
 "cells": [
  {
   "cell_type": "markdown",
   "metadata": {},
   "source": [
    "# Investigating the Enron Fraud with Machine Learning\n",
    "### Udacity Nanodegree Project by Luiz Schiller\n",
    "\n",
    "## Overview\n",
    "\n",
    "In 2000, Enron was one of the largest companies in the United States. By 2002, it had collapsed into bankruptcy due to widespread corporate fraud. In the resulting Federal investigation, a significant amount of typically confidential information entered into the public record, including tens of thousands of emails and detailed financial data for top executives.\n",
    "\n",
    "> Summarize for us the goal of this project and how machine learning is useful in trying to accomplish it. As part of your answer, give some background on the dataset and how it can be used to answer the project question. Were there any outliers in the data when you got it, and how did you handle those?\n",
    "\n",
    "The goal of this project is to build a person of interest (POI, which means an individual who was indicted, reached a settlement or plea deal with the government, or testified in exchange for prosecution immunity) identifier based on financial and email data made public as a result of the Enron scandal. Machine learning is an excellent tool for this kind of classification task as it can use patterns discovered from labeled data to infer the classes of new observations.\n",
    "\n",
    "Our dataset combines the public record of Enron emails and financial data with a hand-generated list of POI's in the fraud case.\n",
    "\n",
    "## Data Exploration"
   ]
  },
  {
   "cell_type": "code",
   "execution_count": 9,
   "metadata": {
    "collapsed": false
   },
   "outputs": [
    {
     "name": "stdout",
     "output_type": "stream",
     "text": [
      "<class 'pandas.core.frame.DataFrame'>\n",
      "Index: 146 entries, ALLEN PHILLIP K to YEAP SOON\n",
      "Data columns (total 21 columns):\n",
      "salary                       95 non-null float64\n",
      "to_messages                  86 non-null float64\n",
      "deferral_payments            39 non-null float64\n",
      "total_payments               125 non-null float64\n",
      "exercised_stock_options      102 non-null float64\n",
      "bonus                        82 non-null float64\n",
      "restricted_stock             110 non-null float64\n",
      "shared_receipt_with_poi      86 non-null float64\n",
      "restricted_stock_deferred    18 non-null float64\n",
      "total_stock_value            126 non-null float64\n",
      "expenses                     95 non-null float64\n",
      "loan_advances                4 non-null float64\n",
      "from_messages                86 non-null float64\n",
      "other                        93 non-null float64\n",
      "from_this_person_to_poi      86 non-null float64\n",
      "poi                          146 non-null bool\n",
      "director_fees                17 non-null float64\n",
      "deferred_income              49 non-null float64\n",
      "long_term_incentive          66 non-null float64\n",
      "email_address                111 non-null object\n",
      "from_poi_to_this_person      86 non-null float64\n",
      "dtypes: bool(1), float64(19), object(1)\n",
      "memory usage: 24.1+ KB\n"
     ]
    }
   ],
   "source": [
    "import sys\n",
    "import cPickle as pickle\n",
    "import numpy as np\n",
    "import pandas as pd\n",
    "import matplotlib.pyplot as plt\n",
    "import seaborn as sns\n",
    "\n",
    "from sklearn.cross_validation import train_test_split\n",
    "\n",
    "from sklearn.pipeline import Pipeline\n",
    "from sklearn.model_selection import GridSearchCV, StratifiedShuffleSplit, cross_val_score\n",
    "\n",
    "from sklearn.preprocessing import StandardScaler\n",
    "\n",
    "from sklearn.decomposition import PCA\n",
    "from sklearn.feature_selection import SelectKBest\n",
    "\n",
    "from sklearn.naive_bayes import GaussianNB\n",
    "from sklearn.svm import SVC\n",
    "from sklearn.tree import DecisionTreeClassifier\n",
    "from sklearn.ensemble import AdaBoostClassifier\n",
    "\n",
    "from sklearn.metrics import accuracy_score, precision_score, recall_score, f1_score\n",
    "\n",
    "\n",
    "sys.path.append(\"../tools/\")\n",
    "\n",
    "from feature_format import featureFormat, targetFeatureSplit\n",
    "from tester import dump_classifier_and_data, test_classifier\n",
    "\n",
    "%matplotlib inline\n",
    "pd.set_option('display.max_columns', None)\n",
    "\n",
    "### Load the dictionary containing the dataset\n",
    "with open(\"final_project_dataset.pkl\", \"r\") as data_file:\n",
    "    data_dict = pickle.load(data_file)\n",
    "    \n",
    "df = pd.DataFrame.from_dict(data_dict, orient='index')\n",
    "df.replace('NaN', np.nan, inplace = True)\n",
    "\n",
    "df.info()"
   ]
  },
  {
   "cell_type": "code",
   "execution_count": 10,
   "metadata": {
    "collapsed": false
   },
   "outputs": [
    {
     "data": {
      "text/plain": [
       "18"
      ]
     },
     "execution_count": 10,
     "metadata": {},
     "output_type": "execute_result"
    }
   ],
   "source": [
    "len(df[df['poi']])"
   ]
  },
  {
   "cell_type": "markdown",
   "metadata": {
    "collapsed": true
   },
   "source": [
    "There are 146 observations and 21 variables in our dataset - 6 email features, 14 financial features and 1 POI label - and they are divided between 18 POI's and 128 non-POI's.\n",
    "\n",
    "There are a lot of missing values, so, before the data is fed into the machine learning models they are going to be filled by zeros.\n",
    "\n",
    "## Outlier Investigation"
   ]
  },
  {
   "cell_type": "code",
   "execution_count": 11,
   "metadata": {
    "collapsed": false
   },
   "outputs": [
    {
     "data": {
      "text/plain": [
       "<matplotlib.axes._subplots.AxesSubplot at 0xcc9f7f0>"
      ]
     },
     "execution_count": 11,
     "metadata": {},
     "output_type": "execute_result"
    },
    {
     "data": {
      "image/png": "[encoded data removed]",
      "text/plain": [
       "<matplotlib.figure.Figure at 0xc95fbe0>"
      ]
     },
     "metadata": {},
     "output_type": "display_data"
    }
   ],
   "source": [
    "df.plot.scatter(x = 'salary', y = 'bonus')"
   ]
  },
  {
   "cell_type": "markdown",
   "metadata": {},
   "source": [
    "There is a salary bigger than 2.5 *10^7 🤔. It seems too much even for Enron. Let's find out whoose is it."
   ]
  },
  {
   "cell_type": "code",
   "execution_count": 12,
   "metadata": {
    "collapsed": false
   },
   "outputs": [
    {
     "data": {
      "text/plain": [
       "'TOTAL'"
      ]
     },
     "execution_count": 12,
     "metadata": {},
     "output_type": "execute_result"
    }
   ],
   "source": [
    "df['salary'].idxmax()"
   ]
  },
  {
   "cell_type": "markdown",
   "metadata": {},
   "source": [
    "This huge salary is the TOTAL of the salaries of the listed employees, so I'm going to remove it."
   ]
  },
  {
   "cell_type": "code",
   "execution_count": 13,
   "metadata": {
    "collapsed": false
   },
   "outputs": [
    {
     "data": {
      "text/plain": [
       "<matplotlib.axes._subplots.AxesSubplot at 0xcc9f0f0>"
      ]
     },
     "execution_count": 13,
     "metadata": {},
     "output_type": "execute_result"
    },
    {
     "data": {
      "image/png": "[encoded data removed]",
      "text/plain": [
       "<matplotlib.figure.Figure at 0xc8dea90>"
      ]
     },
     "metadata": {},
     "output_type": "display_data"
    }
   ],
   "source": [
    "df.drop('TOTAL', inplace = True)\n",
    "df.plot.scatter(x = 'salary', y = 'bonus')"
   ]
  },
  {
   "cell_type": "markdown",
   "metadata": {},
   "source": [
    "## Create New Features\n",
    "\n",
    "> What features did you end up using in your POI identifier, and what selection process did you use to pick them? Did you have to do any scaling? Why or why not? As part of the assignment, you should attempt to engineer your own feature that does not come ready-made in the dataset -- explain what feature you tried to make, and the rationale behind it. (You do not necessarily have to use it in the final analysis, only engineer and test it.) In your feature selection step, if you used an algorithm like a decision tree, please also give the feature importances of the features that you use, and if you used an automated feature selection function like SelectKBest, please report the feature scores and reasons for your choice of parameter values.\n",
    "\n",
    "Creating two features: \n",
    "- fraction of 'to_messages' received from a POI;\n",
    "- fraction of 'from_messages' sent to a POI."
   ]
  },
  {
   "cell_type": "code",
   "execution_count": 14,
   "metadata": {
    "collapsed": false,
    "scrolled": true
   },
   "outputs": [
    {
     "data": {
      "text/plain": [
       "<matplotlib.axes._subplots.AxesSubplot at 0xdbfe518>"
      ]
     },
     "execution_count": 14,
     "metadata": {},
     "output_type": "execute_result"
    },
    {
     "data": {
      "image/png": "[encoded data removed]",
      "text/plain": [
       "<matplotlib.figure.Figure at 0xc8de940>"
      ]
     },
     "metadata": {},
     "output_type": "display_data"
    }
   ],
   "source": [
    "df['fraction_from_poi'] = df['from_poi_to_this_person'] / df['to_messages']\n",
    "df['fraction_to_poi'] = df['from_this_person_to_poi'] / df['from_messages']\n",
    "\n",
    "ax = df[df['poi'] == False].plot.scatter(x='fraction_from_poi', y='fraction_to_poi', color='blue', label='non-poi')\n",
    "df[df['poi'] == True].plot.scatter(x='fraction_from_poi', y='fraction_to_poi', color='red', label='poi', ax=ax)"
   ]
  },
  {
   "cell_type": "markdown",
   "metadata": {},
   "source": [
    "Comparing the results for the final chosen model with and without our new engineered features, we get the following results:\n",
    "\n",
    "New Features | Accuracy | Precision | Recall | F1\n",
    "------------ | -------- | --------- | ------ | -----\n",
    "yes          | 0.879    | 0.543     | 0.325  | 0.380\n",
    "no           | 0.879    | 0.543     | 0.325  | 0.380\n",
    "\n",
    "Surprisingly the results were the same with and without the two engineered features.\n",
    "\n",
    "## Properly Scale Features\n",
    "\n",
    "Since we are going to perform a Principal Component Analysis (PCA) to reduce dimensionality later on, and many machine learning models ask for scaled features, a standardization of the features is going to be tested as the first step of our classification pipeline. If it improves the evaluation score of the model then the chosen final model will have this scaling step.\n",
    "\n",
    "To acomplish it I use the StandardScaler module from scikit learn, which standardizes features by removing the mean and scaling to unit variance.\n",
    "\n",
    "## Intelligently Select Features\n",
    "\n",
    "The next step in the pipeline is selecting the features that convey the most information to our model.\n",
    "\n",
    "Leaving some features behind has some advantages, like reducing the noise in the classification, and saving processing time, since there are less features to compute.\n",
    "\n",
    "The chosen method was scikit learn's SelectKBest using f_classif as scoring function. The f_classif function computes the ANOVA F-value between labels and features for classification tasks.\n",
    "\n",
    "A list of feature counts were tested with the aid of a grid search (it will be discussed in a later section), and finally, for the chosen model, 15 most important features were chosen:\n",
    "\n",
    "feature | score\n",
    "--- | ---\n",
    "exercised_stock_options | 22.84690056\n",
    "total_stock_value | 22.33456614\n",
    "salary | 16.96091624\n",
    "bonus | 15.49141455\n",
    "fraction_to_poi | 13.80595013\n",
    "restricted_stock | 8.61001147\n",
    "total_payments | 8.50623857\n",
    "loan_advances | 7.3499902\n",
    "shared_receipt_with_poi | 7.06339857\n",
    "deferred_income | 6.19466529\n",
    "long_term_incentive | 5.66331492\n",
    "expenses | 5.28384553\n",
    "from_poi_to_this_person | 5.05036916\n",
    "other | 4.42180729\n",
    "fraction_from_poi | 3.57449894 \n",
    "\n",
    "The output of the feature selection was used as input to PCA. The features were projected to a lower dimensional space, reducing dimensionality from 15 features to 6 principal components in our final chosen model.\n",
    "\n",
    "## Pick an Algorithm\n",
    "\n",
    "> What algorithm did you end up using? What other one(s) did you try? How did model performance differ between algorithms? \n",
    "\n",
    "I ended up using a Gaussian Naive-Bayes, which gave XXXXXXXXXXXXXXXXX scores. Some other algorithms tested were Gaussian Naïve-Bayes, Support Vector Machines, Decision Trees, AdaBoost...\n",
    "\n",
    "The scores obtained for them are as follows:\n",
    "XXXXXXXXXXXXXXX\n",
    "XXXXXXXXXXXXXXX\n",
    "\n",
    "## Tune the Algorithm\n",
    "\n",
    "> What does it mean to tune the parameters of an algorithm, and what can happen if you don’t do this well?  How did you tune the parameters of your particular algorithm? (Some algorithms do not have parameters that you need to tune -- if this is the case for the one you picked, identify and briefly explain how you would have done it for the model that was not your final choice or a different model that does utilize parameter tuning, e.g. a decision tree classifier).\n",
    "\n",
    "A crucial part of selecting a machine learning algorithm is to adjust it's parameters in order to maximize the evaluation metrics. If the parameters are not properly tuned, the algorithm can underfit or overfit the data, hence producing suboptimal results.\n",
    "\n",
    "To tune the algorithms, I used the GridSearchCV tool provided in scikit learn. It exhaustively searches for the best parameters between the ones specified in an array of possibilities. The parameters are chosen in order to optimize the chosen scoring function, in our case, f1 (the evaluation metrics will be better addressed on the 'Usage of Evaluation Metrics' section).\n",
    "\n",
    "\n",
    "## Validation Strategy\n",
    "\n",
    "> What is validation, and what’s a classic mistake you can make if you do it wrong? How did you validate your analysis?\n",
    "\n",
    "Validation in machine learning consists of evaluating a model using data that was not touched during the training process. A classic mistake is to ignore this rule, hence obtaining overly optimistic results due to overfitting the training data, but very poor performance on unseen data.\n",
    "\n",
    "It is a good practice to separate data in three parts: training, cross-validation and test sets. The model is tuned to maximize the evaluation score on the cross-validation set, and then the final model efficiency is measured on the test set.\n",
    "\n",
    "Since there are too few observations for us to train and test the algorithms, in order to extract the most information from the data, the selected strategy to validate our model was a Nested Stratified Shuffle Split Cross-Validation.\n",
    "\n",
    "In this strategy effectively uses a series of train/validation/test set splits. In the inner loop, the score is approximately maximized by fitting a model to each training set, and then directly maximized in selecting (hyper)parameters over the validation set. In the outer loop, generalization error is estimated by averaging test set scores over several dataset splits. All sets are picked randomly, but keeping the same proportion of class labels.\n",
    "\n",
    "## Usage of Evaluation Metrics\n",
    "\n",
    "> Give at least 2 evaluation metrics and your average performance for each of them. Explain an interpretation of your metrics that says something human-understandable about your algorithm’s performance.\n",
    "\n",
    "For classification algorithms, some of the most common evaluation metrics are accuracy, precision, recall and the f1 score.\n",
    "\n",
    "- Accuracy shows the ratio between right classifications and the total number of predicted labels. Since the POI/non-POI distribution is very uneven, accuracy does not mean much. A model that predicts always non-POI's would get an accuracy of 87.6%, which is an apparently good score for a terrible classifier.\n",
    "\n",
    "- Precision is the ratio of right classifications over all observations with a given predicted label. For example, the ratio of true POI's over all predicted POI's.\n",
    "\n",
    "- Recall is the ratio of right classifications over all observations that are truly of a given class. For example, the ratio of observations labeled POI over all true POI's.\n",
    "\n",
    "- F1 is a way of balance precision and recall, and is given by the following formula:\n",
    "\n",
    "$$F1 = 2 * (precision * recall) / (precision + recall)$$\n",
    "\n",
    "For the final selected model, the average scores were the following:\n",
    "\n",
    "XXXXXXXXXXXXXXXXXXXXXXXXXXXXXXXXXXXXXXXXXXXXXXXXXXXXXXX"
   ]
  },
  {
   "cell_type": "code",
   "execution_count": 15,
   "metadata": {
    "collapsed": false
   },
   "outputs": [],
   "source": [
    "### The first feature must be \"poi\".\n",
    "features_list = ['poi', 'salary', 'bonus', 'long_term_incentive', 'deferred_income', 'deferral_payments',\n",
    "                 'loan_advances', 'other', 'expenses', 'director_fees', 'total_payments', \n",
    "                 'exercised_stock_options', 'restricted_stock', 'restricted_stock_deferred', \n",
    "                 'total_stock_value', 'to_messages', 'from_messages', 'from_this_person_to_poi', \n",
    "                 'from_poi_to_this_person', 'shared_receipt_with_poi', 'fraction_from_poi', 'fraction_to_poi']\n",
    "\n",
    "### Load the dictionary containing the dataset\n",
    "filled_df = df.fillna(value='NaN') # featureFormat expects 'NaN' strings\n",
    "data_dict = filled_df.to_dict(orient='index')\n",
    "\n",
    "### Store to my_dataset for easy export below.\n",
    "my_dataset = data_dict\n",
    "\n",
    "### Extract features and labels from dataset for local testing\n",
    "data = featureFormat(my_dataset, features_list, sort_keys = True)\n",
    "y, X = targetFeatureSplit(data)\n",
    "X = np.array(X)\n",
    "y = np.array(y)\n",
    "\n",
    "### Cross-validation\n",
    "sss = StratifiedShuffleSplit(n_splits=10, test_size=0.2, random_state=42)\n",
    "\n",
    "SCALER = [None, StandardScaler()]\n",
    "SELECTOR__K = [10, 13, 15, 18, 'all']\n",
    "REDUCER__N_COMPONENTS = [2, 4, 6, 8, 10]"
   ]
  },
  {
   "cell_type": "code",
   "execution_count": 44,
   "metadata": {
    "collapsed": true
   },
   "outputs": [],
   "source": [
    "def evaluate_model(grid, X, y, cv):\n",
    "    nested_score = cross_val_score(grid, X=X, y=y, cv=cv, n_jobs=-1)\n",
    "    print \"Nested f1 score: {}\".format(nested_score.mean())\n",
    "\n",
    "    grid.fit(X, y)    \n",
    "    print \"Best parameters: {}\".format(grid.best_params_)\n",
    "\n",
    "    cv_accuracy = []\n",
    "    cv_precision = []\n",
    "    cv_recall = []\n",
    "    cv_f1 = []\n",
    "    for train_index, test_index in cv.split(X, y):\n",
    "        X_train, X_test = X[train_index], X[test_index]\n",
    "        y_train, y_test = y[train_index], y[test_index]\n",
    "        \n",
    "        grid.best_estimator_.fit(X_train, y_train)\n",
    "        pred = grid.best_estimator_.predict(X_test)\n",
    "        \n",
    "        cv_accuracy.append(accuracy_score(y_test, pred))\n",
    "        cv_precision.append(precision_score(y_test, pred))\n",
    "        cv_recall.append(recall_score(y_test, pred))\n",
    "        cv_f1.append(f1_score(y_test, pred))\n",
    "        \n",
    "    print \"Mean Accuracy: {}\".format(np.mean(cv_accuracy))\n",
    "    print \"Mean Precision: {}\".format(np.mean(cv_precision))\n",
    "    print \"Mean Recall: {}\".format(np.mean(cv_recall))\n",
    "    print \"Mean f1: {}\".format(np.mean(cv_f1))"
   ]
  },
  {
   "cell_type": "markdown",
   "metadata": {},
   "source": [
    "### Gaussian Naïve-Bayes"
   ]
  },
  {
   "cell_type": "code",
   "execution_count": 40,
   "metadata": {
    "collapsed": false,
    "scrolled": true
   },
   "outputs": [
    {
     "name": "stdout",
     "output_type": "stream",
     "text": [
      "Nested f1 score: 0.38\n",
      "Best parameters: {'reducer__n_components': 6, 'selector__k': 15, 'scaler': None}\n",
      "Mean Accuracy: 0.879310344828\n",
      "Mean Precision: 0.543333333333\n",
      "Mean Recall: 0.325\n",
      "Mean f1: 0.38\n",
      "Pipeline(steps=[('scaler', None), ('selector', SelectKBest(k=15, score_func=<function f_classif at 0x000000000C2C9908>)), ('reducer', PCA(copy=True, iterated_power='auto', n_components=6, random_state=42,\n",
      "  svd_solver='auto', tol=0.0, whiten=False)), ('classifier', GaussianNB(priors=None))])\n",
      "\tAccuracy: 0.85733\tPrecision: 0.44868\tRecall: 0.30600\tF1: 0.36385\tF2: 0.32678\n",
      "\tTotal predictions: 15000\tTrue positives:  612\tFalse positives:  752\tFalse negatives: 1388\tTrue negatives: 12248\n",
      "\n"
     ]
    }
   ],
   "source": [
    "### comment to perform a full hyperparameter search\n",
    "SCALER = [None]\n",
    "SELECTOR__K = [15]\n",
    "REDUCER__N_COMPONENTS = [6]\n",
    "###################################################\n",
    "\n",
    "pipe = Pipeline([\n",
    "        ('scaler', StandardScaler()),\n",
    "        ('selector', SelectKBest()),\n",
    "        ('reducer', PCA(random_state=42)),\n",
    "        ('classifier', GaussianNB())\n",
    "    ])\n",
    "\n",
    "param_grid = {\n",
    "    'scaler': SCALER,\n",
    "    'selector__k': SELECTOR__K,\n",
    "    'reducer__n_components': REDUCER__N_COMPONENTS\n",
    "}\n",
    "\n",
    "gnb_grid = GridSearchCV(pipe, param_grid, scoring='f1', cv=sss)\n",
    "\n",
    "evaluate_model(gnb_grid, X, y, sss)\n",
    "\n",
    "test_classifier(gnb_grid.best_estimator_, my_dataset, features_list)"
   ]
  },
  {
   "cell_type": "markdown",
   "metadata": {},
   "source": [
    "Nested f1 score: 0.366984126984\n",
    "  \n",
    "Best parameters: {'reducer__n_components': 6, 'selector__k': 15, 'scaler': None}\n",
    "GridSearchCV best score (f1): 0.38\n",
    "  \n",
    "Mean Accuracy: 0.879310344828\n",
    "Mean Precision: 0.543333333333\n",
    "Mean Recall: 0.325\n",
    "Mean f1: 0.38\n",
    "\n",
    "Accuracy: 0.85733\tPrecision: 0.44868\tRecall: 0.30600\tF1: 0.36385\tF2: 0.32678\n",
    "Total predictions: 15000\tTrue positives:  612\tFalse positives:  752\tFalse negatives: 1388\tTrue negatives: 12248"
   ]
  },
  {
   "cell_type": "code",
   "execution_count": 18,
   "metadata": {
    "collapsed": false,
    "scrolled": true
   },
   "outputs": [
    {
     "data": {
      "image/png": "[encoded data removed]",
      "text/plain": [
       "<matplotlib.figure.Figure at 0xd0bccc0>"
      ]
     },
     "metadata": {},
     "output_type": "display_data"
    }
   ],
   "source": [
    "kbest = gnb_grid.best_estimator_.named_steps['selector']\n",
    "\n",
    "features_array = np.array(features_list)\n",
    "features_array = np.delete(features_array, 0)\n",
    "indices = np.argsort(kbest.scores_)[::-1]\n",
    "k_features = kbest.get_support().sum()\n",
    "\n",
    "features = []\n",
    "for i in range(k_features):\n",
    "    features.append(features_array[indices[i]])\n",
    "\n",
    "features = features[::-1]\n",
    "scores = kbest.scores_[indices[range(k_features)]][::-1]\n",
    "\n",
    "plt.barh(range(k_features), scores)\n",
    "plt.yticks(np.arange(0.4, k_features), features)\n",
    "plt.title('SelectKBest Feature Importances')\n",
    "plt.show()"
   ]
  },
  {
   "cell_type": "code",
   "execution_count": 46,
   "metadata": {
    "collapsed": false
   },
   "outputs": [
    {
     "name": "stdout",
     "output_type": "stream",
     "text": [
      "Nested f1 score: 0.38\n",
      "Best parameters: {'reducer__n_components': 6, 'selector__k': 15, 'scaler': None}\n",
      "Mean Accuracy: 0.879310344828\n",
      "Mean Precision: 0.543333333333\n",
      "Mean Recall: 0.325\n",
      "Mean f1: 0.38\n"
     ]
    }
   ],
   "source": [
    "# Without the engineered features\n",
    "# removing the 2 last columns\n",
    "X_2 = np.delete(X, -1, 1)\n",
    "X_2 = np.delete(X_2, -1, 1)\n",
    "\n",
    "evaluate_model(gnb_grid, X_2, y, sss)"
   ]
  },
  {
   "cell_type": "markdown",
   "metadata": {},
   "source": [
    "### Support Vector Machine Classifier"
   ]
  },
  {
   "cell_type": "code",
   "execution_count": 19,
   "metadata": {
    "collapsed": false,
    "scrolled": true
   },
   "outputs": [
    {
     "name": "stdout",
     "output_type": "stream",
     "text": [
      "Nested f1 score: 0.566651681652\n",
      "Best parameters: {'reducer__n_components': 10, 'selector__k': 18, 'scaler': StandardScaler(copy=True, with_mean=True, with_std=True), 'classifier__class_weight': 'balanced', 'classifier__gamma': 0.01, 'classifier__kernel': 'sigmoid', 'classifier__C': 100}\n",
      "Mean Accuracy: 0.827586206897\n",
      "Mean Precision: 0.460887445887\n",
      "Mean Recall: 0.8\n",
      "Mean f1: 0.566651681652\n",
      "Pipeline(steps=[('scaler', StandardScaler(copy=True, with_mean=True, with_std=True)), ('selector', SelectKBest(k=18, score_func=<function f_classif at 0x000000000C2C9908>)), ('reducer', PCA(copy=True, iterated_power='auto', n_components=10, random_state=42,\n",
      "  svd_solver='auto', tol=0.0, whiten=False)), ('cla...,\n",
      "  max_iter=-1, probability=False, random_state=None, shrinking=True,\n",
      "  tol=0.001, verbose=False))])\n",
      "\tAccuracy: 0.76920\tPrecision: 0.33595\tRecall: 0.74850\tF1: 0.46375\tF2: 0.60092\n",
      "\tTotal predictions: 15000\tTrue positives: 1497\tFalse positives: 2959\tFalse negatives:  503\tTrue negatives: 10041\n",
      "\n"
     ]
    }
   ],
   "source": [
    "C_PARAM = np.logspace(-2, 3, 6)\n",
    "GAMMA_PARAM = np.logspace(-4, 1, 6)\n",
    "CLASS_WEIGHT = ['balanced', None]\n",
    "KERNEL = ['rbf', 'sigmoid']\n",
    "\n",
    "### comment to perform a full hyperparameter search\n",
    "SCALER = [StandardScaler()]\n",
    "SELECTOR__K = [18]\n",
    "REDUCER__N_COMPONENTS = [10]\n",
    "C_PARAM = [100]\n",
    "GAMMA_PARAM = [.01]\n",
    "CLASS_WEIGHT = ['balanced']\n",
    "KERNEL = ['sigmoid']\n",
    "###################################################\n",
    "\n",
    "pipe = Pipeline([\n",
    "        ('scaler', StandardScaler()),\n",
    "        ('selector', SelectKBest()),\n",
    "        ('reducer', PCA(random_state=42)),\n",
    "        ('classifier', SVC())\n",
    "    ])\n",
    "\n",
    "param_grid = {\n",
    "    'scaler': SCALER,\n",
    "    'selector__k': SELECTOR__K,\n",
    "    'reducer__n_components': REDUCER__N_COMPONENTS,\n",
    "    'classifier__C': C_PARAM,\n",
    "    'classifier__gamma': GAMMA_PARAM,\n",
    "    'classifier__class_weight': CLASS_WEIGHT,\n",
    "    'classifier__kernel': KERNEL\n",
    "}\n",
    "\n",
    "svc_grid = GridSearchCV(pipe, param_grid, scoring='f1', cv=sss)\n",
    "\n",
    "evaluate_model(svc_grid, X, y, sss)\n",
    "\n",
    "test_classifier(svc_grid.best_estimator_, my_dataset, features_list)"
   ]
  },
  {
   "cell_type": "markdown",
   "metadata": {},
   "source": [
    "Nested f1 score: 0.287132034632\n",
    "\n",
    "Best parameters: {'reducer__n_components': 10, 'selector__k': 18, 'scaler': StandardScaler(copy=True, with_mean=True, with_std=True), 'classifier__class_weight': 'balanced', 'classifier__gamma': 0.01, 'classifier__kernel': 'sigmoid', 'classifier__C': 100.0}\n",
    "GridSearchCV best score (f1): 0.566651681652\n",
    "\n",
    "Mean Accuracy: 0.827586206897\n",
    "Mean Precision: 0.460887445887\n",
    "Mean Recall: 0.8\n",
    "Mean f1: 0.566651681652\n",
    "\n",
    "Accuracy: 0.76920\tPrecision: 0.33595\tRecall: 0.74850\tF1: 0.46375\tF2: 0.60092\n",
    "Total predictions: 15000\tTrue positives: 1497\tFalse positives: 2959\tFalse negatives:  503\tTrue negatives: 10041"
   ]
  },
  {
   "cell_type": "markdown",
   "metadata": {},
   "source": [
    "### Decision Tree Classifier"
   ]
  },
  {
   "cell_type": "code",
   "execution_count": 20,
   "metadata": {
    "collapsed": false,
    "scrolled": false
   },
   "outputs": [
    {
     "name": "stdout",
     "output_type": "stream",
     "text": [
      "Nested f1 score: 0.402554112554\n",
      "Best parameters: {'reducer__n_components': 2, 'selector__k': 18, 'scaler': StandardScaler(copy=True, with_mean=True, with_std=True), 'classifier__min_samples_split': 8, 'classifier__class_weight': 'balanced', 'classifier__splitter': 'random', 'classifier__criterion': 'gini'}\n",
      "Mean Accuracy: 0.772413793103\n",
      "Mean Precision: 0.318650793651\n",
      "Mean Recall: 0.525\n",
      "Mean f1: 0.382117882118\n",
      "Pipeline(steps=[('scaler', StandardScaler(copy=True, with_mean=True, with_std=True)), ('selector', SelectKBest(k=18, score_func=<function f_classif at 0x000000000C2C9908>)), ('reducer', PCA(copy=True, iterated_power='auto', n_components=2, random_state=42,\n",
      "  svd_solver='auto', tol=0.0, whiten=False)), ('clas...=8, min_weight_fraction_leaf=0.0,\n",
      "            presort=False, random_state=None, splitter='random'))])\n",
      "\tAccuracy: 0.74293\tPrecision: 0.28657\tRecall: 0.62300\tF1: 0.39256\tF2: 0.50454\n",
      "\tTotal predictions: 15000\tTrue positives: 1246\tFalse positives: 3102\tFalse negatives:  754\tTrue negatives: 9898\n",
      "\n"
     ]
    }
   ],
   "source": [
    "CRITERION = ['gini', 'entropy']\n",
    "SPLITTER = ['best', 'random']\n",
    "MIN_SAMPLES_SPLIT = [2, 4, 6, 8]\n",
    "CLASS_WEIGHT = ['balanced', None]\n",
    "\n",
    "### comment to perform a full hyperparameter search\n",
    "SCALER = [StandardScaler()]\n",
    "SELECTOR__K = [18]\n",
    "REDUCER__N_COMPONENTS = [2]\n",
    "CRITERION = ['gini']\n",
    "SPLITTER = ['random']\n",
    "MIN_SAMPLES_SPLIT = [8]\n",
    "CLASS_WEIGHT = ['balanced']\n",
    "###################################################\n",
    "\n",
    "pipe = Pipeline([\n",
    "        ('scaler', StandardScaler()),\n",
    "        ('selector', SelectKBest()),\n",
    "        ('reducer', PCA(random_state=42)),\n",
    "        ('classifier', DecisionTreeClassifier())\n",
    "    ])\n",
    "\n",
    "param_grid = {\n",
    "    'scaler': SCALER,\n",
    "    'selector__k': SELECTOR__K,\n",
    "    'reducer__n_components': REDUCER__N_COMPONENTS,\n",
    "    'classifier__criterion': CRITERION,\n",
    "    'classifier__splitter': SPLITTER,\n",
    "    'classifier__min_samples_split': MIN_SAMPLES_SPLIT,\n",
    "    'classifier__class_weight': CLASS_WEIGHT,\n",
    "}\n",
    "\n",
    "tree_grid = GridSearchCV(pipe, param_grid, scoring='f1', cv=sss)\n",
    "\n",
    "evaluate_model(tree_grid, X, y, sss)\n",
    "\n",
    "test_classifier(tree_grid.best_estimator_, my_dataset, features_list)"
   ]
  },
  {
   "cell_type": "markdown",
   "metadata": {},
   "source": [
    "Nested f1 score: 0.204617604618\n",
    "\n",
    "Best parameters: {'reducer__n_components': 2, 'selector__k': 18, 'scaler': StandardScaler(copy=True, with_mean=True, with_std=True), 'classifier__min_samples_split': 8, 'classifier__class_weight': 'balanced', 'classifier__splitter': 'random', 'classifier__criterion': 'gini'}\n",
    "\n",
    "Mean Accuracy: 0.744827586207\n",
    "Mean Precision: 0.284177489177\n",
    "Mean Recall: 0.55\n",
    "Mean f1: 0.364031524032\n",
    "\n",
    "Accuracy: 0.74660\tPrecision: 0.29436\tRecall: 0.64450\tF1: 0.40414\tF2: 0.52064\n",
    "Total predictions: 15000\tTrue positives: 1289\tFalse positives: 3090\tFalse negatives:  711\tTrue negatives: 9910"
   ]
  },
  {
   "cell_type": "markdown",
   "metadata": {},
   "source": [
    "## References\n",
    "\n",
    "- http://scikit-learn.org/\n",
    "- http://sebastianraschka.com/Articles/2014_about_feature_scaling.html"
   ]
  }
 ],
 "metadata": {
  "anaconda-cloud": {},
  "kernelspec": {
   "display_name": "Python [conda root]",
   "language": "python",
   "name": "conda-root-py"
  },
  "language_info": {
   "codemirror_mode": {
    "name": "ipython",
    "version": 2
   },
   "file_extension": ".py",
   "mimetype": "text/x-python",
   "name": "python",
   "nbconvert_exporter": "python",
   "pygments_lexer": "ipython2",
   "version": "2.7.12"
  }
 },
 "nbformat": 4,
 "nbformat_minor": 1
}
